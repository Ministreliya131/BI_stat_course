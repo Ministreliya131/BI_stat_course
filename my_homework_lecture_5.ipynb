{
 "cells": [
  {
   "cell_type": "markdown",
   "metadata": {
    "id": "_d7wDz2eSo0i"
   },
   "source": [
    "Всем привет! Пришло время нашей первой домашней работы не на степике. Надеюсь, будет весело :)\n",
    "\n",
    "Так как, `pandas` вы еще не проходили, то я вам немного помогу. Эту домашку можно делать как в питоне, так и в R, само задание будет написано в `Google Colaboratory`."
   ]
  },
  {
   "cell_type": "code",
   "execution_count": 1,
   "metadata": {
    "id": "OLE-TC4eN1HP"
   },
   "outputs": [],
   "source": [
    "# Pandas понадобится нам для чтения денных\n",
    "import os\n",
    "import pandas as pd\n",
    "import seaborn as sns\n",
    "import matplotlib.pyplot as plt\n",
    "import numpy as np"
   ]
  },
  {
   "cell_type": "code",
   "execution_count": 2,
   "metadata": {},
   "outputs": [],
   "source": [
    "os.chdir(\"/home/ministreliya/Downloads/\")"
   ]
  },
  {
   "cell_type": "code",
   "execution_count": 3,
   "metadata": {
    "colab": {
     "base_uri": "https://localhost:8080/",
     "height": 380
    },
    "id": "OQxt1TdvN_mT",
    "outputId": "8ea3bfd1-17fc-4a44-a068-e3189fb587a6"
   },
   "outputs": [
    {
     "data": {
      "text/html": [
       "<div>\n",
       "<style scoped>\n",
       "    .dataframe tbody tr th:only-of-type {\n",
       "        vertical-align: middle;\n",
       "    }\n",
       "\n",
       "    .dataframe tbody tr th {\n",
       "        vertical-align: top;\n",
       "    }\n",
       "\n",
       "    .dataframe thead th {\n",
       "        text-align: right;\n",
       "    }\n",
       "</style>\n",
       "<table border=\"1\" class=\"dataframe\">\n",
       "  <thead>\n",
       "    <tr style=\"text-align: right;\">\n",
       "      <th></th>\n",
       "      <th>TMCC1</th>\n",
       "      <th>RANBP3</th>\n",
       "      <th>GABRG3</th>\n",
       "      <th>ARRDC5</th>\n",
       "      <th>LRP3</th>\n",
       "      <th>TIMM23</th>\n",
       "      <th>TBPL1</th>\n",
       "      <th>BIRC8</th>\n",
       "      <th>TTC28</th>\n",
       "      <th>C19orf66</th>\n",
       "      <th>...</th>\n",
       "      <th>MAGEA6</th>\n",
       "      <th>IL4I1</th>\n",
       "      <th>LCN12</th>\n",
       "      <th>SMG6</th>\n",
       "      <th>C1orf100</th>\n",
       "      <th>WDR75</th>\n",
       "      <th>ZBTB26</th>\n",
       "      <th>SPTY2D1</th>\n",
       "      <th>PLEKHA2</th>\n",
       "      <th>Cell_type</th>\n",
       "    </tr>\n",
       "  </thead>\n",
       "  <tbody>\n",
       "    <tr>\n",
       "      <th>0</th>\n",
       "      <td>33.888550</td>\n",
       "      <td>38.384340</td>\n",
       "      <td>0.044721</td>\n",
       "      <td>1.385159</td>\n",
       "      <td>11.341853</td>\n",
       "      <td>105.193306</td>\n",
       "      <td>26.463990</td>\n",
       "      <td>0.000000</td>\n",
       "      <td>1.537874</td>\n",
       "      <td>27.645407</td>\n",
       "      <td>...</td>\n",
       "      <td>21.332443</td>\n",
       "      <td>1.397932</td>\n",
       "      <td>0.000000</td>\n",
       "      <td>23.136585</td>\n",
       "      <td>0.001902</td>\n",
       "      <td>60.218548</td>\n",
       "      <td>6.307399</td>\n",
       "      <td>9.577274</td>\n",
       "      <td>44.026940</td>\n",
       "      <td>B_cell</td>\n",
       "    </tr>\n",
       "    <tr>\n",
       "      <th>1</th>\n",
       "      <td>16.497124</td>\n",
       "      <td>35.054090</td>\n",
       "      <td>0.314645</td>\n",
       "      <td>4.329797</td>\n",
       "      <td>8.649321</td>\n",
       "      <td>50.577618</td>\n",
       "      <td>16.684614</td>\n",
       "      <td>0.000000</td>\n",
       "      <td>1.796609</td>\n",
       "      <td>13.715611</td>\n",
       "      <td>...</td>\n",
       "      <td>1.199440</td>\n",
       "      <td>159.147130</td>\n",
       "      <td>0.259244</td>\n",
       "      <td>18.986986</td>\n",
       "      <td>0.310971</td>\n",
       "      <td>25.818224</td>\n",
       "      <td>4.193348</td>\n",
       "      <td>14.181196</td>\n",
       "      <td>35.779896</td>\n",
       "      <td>B_cell</td>\n",
       "    </tr>\n",
       "    <tr>\n",
       "      <th>2</th>\n",
       "      <td>5.449933</td>\n",
       "      <td>31.783958</td>\n",
       "      <td>0.002949</td>\n",
       "      <td>2.137536</td>\n",
       "      <td>1.750892</td>\n",
       "      <td>109.201050</td>\n",
       "      <td>35.265984</td>\n",
       "      <td>0.011501</td>\n",
       "      <td>0.878889</td>\n",
       "      <td>19.361662</td>\n",
       "      <td>...</td>\n",
       "      <td>0.002924</td>\n",
       "      <td>25.256378</td>\n",
       "      <td>0.000000</td>\n",
       "      <td>32.941895</td>\n",
       "      <td>0.000000</td>\n",
       "      <td>99.555990</td>\n",
       "      <td>8.323141</td>\n",
       "      <td>29.321960</td>\n",
       "      <td>30.816538</td>\n",
       "      <td>B_cell</td>\n",
       "    </tr>\n",
       "    <tr>\n",
       "      <th>3</th>\n",
       "      <td>33.362240</td>\n",
       "      <td>56.147026</td>\n",
       "      <td>0.037295</td>\n",
       "      <td>1.604904</td>\n",
       "      <td>6.807299</td>\n",
       "      <td>100.141620</td>\n",
       "      <td>25.446817</td>\n",
       "      <td>0.000000</td>\n",
       "      <td>2.502662</td>\n",
       "      <td>12.745437</td>\n",
       "      <td>...</td>\n",
       "      <td>0.000000</td>\n",
       "      <td>14.509516</td>\n",
       "      <td>0.063003</td>\n",
       "      <td>19.036896</td>\n",
       "      <td>0.000000</td>\n",
       "      <td>49.394980</td>\n",
       "      <td>4.655794</td>\n",
       "      <td>17.683067</td>\n",
       "      <td>47.143270</td>\n",
       "      <td>B_cell</td>\n",
       "    </tr>\n",
       "    <tr>\n",
       "      <th>4</th>\n",
       "      <td>50.188510</td>\n",
       "      <td>30.165264</td>\n",
       "      <td>0.039678</td>\n",
       "      <td>1.501439</td>\n",
       "      <td>1.619954</td>\n",
       "      <td>46.916790</td>\n",
       "      <td>28.053373</td>\n",
       "      <td>0.018181</td>\n",
       "      <td>1.165164</td>\n",
       "      <td>30.318027</td>\n",
       "      <td>...</td>\n",
       "      <td>0.033807</td>\n",
       "      <td>93.681190</td>\n",
       "      <td>0.031816</td>\n",
       "      <td>19.094831</td>\n",
       "      <td>0.000000</td>\n",
       "      <td>20.201437</td>\n",
       "      <td>6.935232</td>\n",
       "      <td>20.769829</td>\n",
       "      <td>53.935143</td>\n",
       "      <td>B_cell</td>\n",
       "    </tr>\n",
       "  </tbody>\n",
       "</table>\n",
       "<p>5 rows × 18793 columns</p>\n",
       "</div>"
      ],
      "text/plain": [
       "       TMCC1     RANBP3    GABRG3    ARRDC5       LRP3      TIMM23      TBPL1  \\\n",
       "0  33.888550  38.384340  0.044721  1.385159  11.341853  105.193306  26.463990   \n",
       "1  16.497124  35.054090  0.314645  4.329797   8.649321   50.577618  16.684614   \n",
       "2   5.449933  31.783958  0.002949  2.137536   1.750892  109.201050  35.265984   \n",
       "3  33.362240  56.147026  0.037295  1.604904   6.807299  100.141620  25.446817   \n",
       "4  50.188510  30.165264  0.039678  1.501439   1.619954   46.916790  28.053373   \n",
       "\n",
       "      BIRC8     TTC28   C19orf66  ...     MAGEA6       IL4I1     LCN12  \\\n",
       "0  0.000000  1.537874  27.645407  ...  21.332443    1.397932  0.000000   \n",
       "1  0.000000  1.796609  13.715611  ...   1.199440  159.147130  0.259244   \n",
       "2  0.011501  0.878889  19.361662  ...   0.002924   25.256378  0.000000   \n",
       "3  0.000000  2.502662  12.745437  ...   0.000000   14.509516  0.063003   \n",
       "4  0.018181  1.165164  30.318027  ...   0.033807   93.681190  0.031816   \n",
       "\n",
       "        SMG6  C1orf100      WDR75    ZBTB26    SPTY2D1    PLEKHA2  Cell_type  \n",
       "0  23.136585  0.001902  60.218548  6.307399   9.577274  44.026940     B_cell  \n",
       "1  18.986986  0.310971  25.818224  4.193348  14.181196  35.779896     B_cell  \n",
       "2  32.941895  0.000000  99.555990  8.323141  29.321960  30.816538     B_cell  \n",
       "3  19.036896  0.000000  49.394980  4.655794  17.683067  47.143270     B_cell  \n",
       "4  19.094831  0.000000  20.201437  6.935232  20.769829  53.935143     B_cell  \n",
       "\n",
       "[5 rows x 18793 columns]"
      ]
     },
     "execution_count": 3,
     "metadata": {},
     "output_type": "execute_result"
    }
   ],
   "source": [
    "# В переменную data_path надо положить путь до данных\n",
    "#data_path = \"data\"\n",
    "data_path = os.getcwd()\n",
    "expression_data = pd.read_csv(f\"{data_path}/homework_lecture_5_data.csv\", index_col=0)\n",
    "expression_data.head()"
   ]
  },
  {
   "cell_type": "code",
   "execution_count": 4,
   "metadata": {
    "id": "9k75ZGZyVBhu"
   },
   "outputs": [],
   "source": [
    "b_cells_expression_data = expression_data.query(\"Cell_type == 'B_cell'\")\n",
    "nk_cells_expression_data = expression_data.query(\"Cell_type == 'NK_cell'\")"
   ]
  },
  {
   "cell_type": "markdown",
   "metadata": {
    "id": "OAUclhJ3UC2p"
   },
   "source": [
    "В этом задании мы будем работать с данными об экспрессии генов в друх клеточных типах: в B-клетках и в NK-клетках. Выясним, средняя экспрессия каких генов значимо различается в этих клеточных типах."
   ]
  },
  {
   "cell_type": "markdown",
   "metadata": {
    "id": "crW-TliUUuye"
   },
   "source": [
    "Я буду показывать примеры на одном гене, а на основе них вы сможете сделать похожие задачи для всех генов."
   ]
  },
  {
   "cell_type": "code",
   "execution_count": 5,
   "metadata": {
    "id": "1o1vmOSoQMRy"
   },
   "outputs": [],
   "source": [
    "example_gene = \"TMCC1\""
   ]
  },
  {
   "cell_type": "markdown",
   "metadata": {
    "id": "gFSq8BCiUb_m"
   },
   "source": [
    "## Задание 1\n",
    "\n",
    "**2 баллов**"
   ]
  },
  {
   "cell_type": "markdown",
   "metadata": {
    "id": "419ztR7lVm_E"
   },
   "source": [
    "Посмотрим на распределение экспрессий гена `TMCC1` в обоих клеточных типах."
   ]
  },
  {
   "cell_type": "code",
   "execution_count": 6,
   "metadata": {
    "colab": {
     "base_uri": "https://localhost:8080/",
     "height": 279
    },
    "id": "0ln2fQG2QMen",
    "outputId": "00298ce4-4675-4eee-e9aa-e322f2f0b703"
   },
   "outputs": [
    {
     "data": {
      "image/png": "[encoded data removed]",
      "text/plain": [
       "<Figure size 432x288 with 1 Axes>"
      ]
     },
     "metadata": {
      "needs_background": "light"
     },
     "output_type": "display_data"
    }
   ],
   "source": [
    "sns.histplot(b_cells_expression_data[example_gene], stat=\"density\");"
   ]
  },
  {
   "cell_type": "code",
   "execution_count": 7,
   "metadata": {
    "colab": {
     "base_uri": "https://localhost:8080/",
     "height": 281
    },
    "id": "pNdIdzpYQMpu",
    "outputId": "25c386a9-6f30-4beb-afbd-d837a8dd066b"
   },
   "outputs": [
    {
     "data": {
      "image/png": "[encoded data removed]",
      "text/plain": [
       "<Figure size 432x288 with 1 Axes>"
      ]
     },
     "metadata": {
      "needs_background": "light"
     },
     "output_type": "display_data"
    }
   ],
   "source": [
    "sns.histplot(nk_cells_expression_data[example_gene], stat=\"density\");"
   ]
  },
  {
   "cell_type": "markdown",
   "metadata": {
    "id": "TvQPlK5zV77n"
   },
   "source": [
    "Кажется, что они немного различаются. Для начала давайте попробуем еще раз проверить центральную предельную теорему.\n",
    "\n",
    "**Задание:**\n",
    "\n",
    "Напишите функцию, которая будет принимать на вход экспрессии гена, семплировать их них выборки размера `sample_size`, считать среднюю экспрессию и повторять это `n_samples` раз. Примените эту функцию к экспрессиям гена `TMCC1` в обоих клеточных типах, визуализируйте их. Отличаются ли средние экспрессии данного гена у этих клеточных типов?\n",
    " \n",
    "Сигнатура функции:\n",
    "\n",
    "```python\n",
    "def demonstrate_clt(expressions, sample_size, n_samples):\n",
    "    mean_expressions = []\n",
    "\n",
    "    return mean_expressions\n",
    "```"
   ]
  },
  {
   "cell_type": "code",
   "execution_count": 8,
   "metadata": {
    "id": "liScG4k7qVtW"
   },
   "outputs": [],
   "source": [
    "def demonstrate_clt(expressions, sample_size, n_samples):\n",
    "    mean_expressions = [np.mean(np.random.choice(expressions, sample_size)) for i in range(n_samples)]\n",
    "    return mean_expressions"
   ]
  },
  {
   "cell_type": "code",
   "execution_count": 14,
   "metadata": {
    "id": "ZtEKz5jzZ65A"
   },
   "outputs": [
    {
     "data": {
      "image/png": "[encoded data removed]",
      "text/plain": [
       "<Figure size 432x288 with 1 Axes>"
      ]
     },
     "metadata": {
      "needs_background": "light"
     },
     "output_type": "display_data"
    }
   ],
   "source": [
    "b_cells = b_cells_expression_data[example_gene]\n",
    "nk_cells = nk_cells_expression_data[example_gene]\n",
    "\n",
    "clt_nk = demonstrate_clt(nk_cells, 100, 10000)\n",
    "clt_b = demonstrate_clt(b_cells, 100, 10000)\n",
    "\n",
    "plt.title(f'Expression of {example_gene} gene in B- and NK-cells')\n",
    "sns.histplot(clt_nk, stat=\"density\", color=\"#7B68EE\", label='NK-cells')\n",
    "plt.axvline(np.mean(clt_nk), c=\"#4B0082\", ls='--', label='mean of NK-cells')\n",
    "sns.histplot(clt_b, stat=\"density\", color='#00FA9A', label='B-cells')\n",
    "plt.axvline(np.mean(clt_b), c='#006400', ls='--', label='mean of B-cells')\n",
    "plt.xlabel('Mean expression distribution')\n",
    "plt.legend()\n",
    "plt.show()"
   ]
  },
  {
   "cell_type": "markdown",
   "metadata": {
    "id": "dy8xJYbfa_1W"
   },
   "source": [
    "А теперь посчитайте 95% доверительные интервалы для обоих распределений (примем тот факт, что средние распределены нормально для обоих клеточных типов) и скажите, отличается ли средняя экспрессия данного гена между клеточными типами?"
   ]
  },
  {
   "cell_type": "code",
   "execution_count": 16,
   "metadata": {},
   "outputs": [
    {
     "name": "stdout",
     "output_type": "stream",
     "text": [
      "Expression of TMCC1 for NK-cells has (26.938063, 33.801617) 95% confidence interval\n",
      "Expression of TMCC1 for B-cells has (23.49602, 30.344753000000004) 95% confidence interval\n"
     ]
    }
   ],
   "source": [
    "l_nk = -1.96 * np.std(nk_cells) / (len(nk_cells)**0.5) \n",
    "r_nk = 1.96 * np.std(nk_cells) / (len(nk_cells)**0.5)\n",
    "\n",
    "nk_conf_interval = sorted([i for i in nk_cells if l_nk < (i - np.mean(nk_cells)) < r_nk])\n",
    "print(f'Expression of {example_gene} for NK-cells has {nk_conf_interval[0], nk_conf_interval[-1]} 95% confidence interval')\n",
    "\n",
    "\n",
    "l_b = -1.96 * np.std(b_cells) / (len(b_cells)**0.5) \n",
    "r_b = 1.96 * np.std(b_cells) / (len(b_cells)**0.5)\n",
    "\n",
    "b_conf_interval = sorted([i for i in b_cells if l_b < (i - np.mean(b_cells)) < r_b])\n",
    "print(f'Expression of {example_gene} for B-cells has {b_conf_interval[0], b_conf_interval[-1]} 95% confidence interval')"
   ]
  },
  {
   "cell_type": "markdown",
   "metadata": {
    "id": "ohXJ3B-TcwP1"
   },
   "source": [
    "## Задание 2\n",
    "\n",
    "**4 баллов**"
   ]
  },
  {
   "cell_type": "markdown",
   "metadata": {
    "id": "OZeMqL9KdCZW"
   },
   "source": [
    "Вспомнили центральную предельную теорему и то, как считать доверительные интервалы в простом случае, теперь давайте воспользуемся библиотечной реализацией для того, чтобы протестировать уже все гены. "
   ]
  },
  {
   "cell_type": "code",
   "execution_count": 17,
   "metadata": {
    "id": "lWagSgzjabYZ"
   },
   "outputs": [],
   "source": [
    "import scipy.stats as st"
   ]
  },
  {
   "cell_type": "markdown",
   "metadata": {
    "id": "8UF6p1vpekvX"
   },
   "source": [
    "Посчитаем доверительные интервалы для нашего демонстрационного гена в обоих клеточных типах:"
   ]
  },
  {
   "cell_type": "code",
   "execution_count": 18,
   "metadata": {
    "colab": {
     "base_uri": "https://localhost:8080/"
    },
    "id": "6D37bTt5cyVm",
    "outputId": "13509c33-9373-4893-e92c-f2ae556be6de"
   },
   "outputs": [
    {
     "data": {
      "text/plain": [
       "(23.420272072079285, 30.5376715863207)"
      ]
     },
     "execution_count": 18,
     "metadata": {},
     "output_type": "execute_result"
    }
   ],
   "source": [
    "# B клетки\n",
    "st.t.interval(alpha=0.95, # 95% доверительный интервал\n",
    "              df=len(b_cells_expression_data[example_gene]) - 1, # число степеней свободы - 1\n",
    "              loc=np.mean(b_cells_expression_data[example_gene]), # Среднее\n",
    "              scale=st.sem(b_cells_expression_data[example_gene])) # Стандартная ошибка среднего"
   ]
  },
  {
   "cell_type": "code",
   "execution_count": 19,
   "metadata": {
    "colab": {
     "base_uri": "https://localhost:8080/"
    },
    "id": "fgUUKsMhcyfG",
    "outputId": "32bca3dc-399a-4c7c-9ba6-3ac3726c172f"
   },
   "outputs": [
    {
     "data": {
      "text/plain": [
       "(26.846104688075624, 34.016534512724384)"
      ]
     },
     "execution_count": 19,
     "metadata": {},
     "output_type": "execute_result"
    }
   ],
   "source": [
    "# NK клетки\n",
    "st.t.interval(alpha=0.95, # 95% доверительный интервал\n",
    "              df=len(nk_cells_expression_data[example_gene]) - 1, # число степеней свободы - 1\n",
    "              loc=np.mean(nk_cells_expression_data[example_gene]), # Среднее\n",
    "              scale=st.sem(nk_cells_expression_data[example_gene])) # Стандартная ошибка среднего"
   ]
  },
  {
   "cell_type": "markdown",
   "metadata": {
    "id": "q60PntVDfVof"
   },
   "source": [
    "Напишите функцию для проверки того, что доверительные интервалы пересекаются. На лекции мы тестировали гипотезы для равенства среднего выборки заданному числу и проверяли, попало ли оно в границы этого интервала или нет, если оно оказывалось за ними, то мы говорили, что средние отличаются. Здесь же мы имеем дело с двумя выборками, поэтому будем проверять, пересекаются ли доверительные интервалы, и, если нет, то говорить о том, что средние в выборках отличаются.\n",
    "\n",
    "```python\n",
    "def check_intervals_intersect(first_ci, second_ci):   \n",
    "\n",
    "    return are_intersect # True or False\n",
    "```"
   ]
  },
  {
   "cell_type": "code",
   "execution_count": 21,
   "metadata": {
    "id": "iIYx9Pb9fO_q"
   },
   "outputs": [],
   "source": [
    "def check_intervals_intersect(first_ci, second_ci):   \n",
    "    intrsct = (first_ci[0] < second_ci[1]) & (second_ci[0] < first_ci[1])\n",
    "    return intrsct"
   ]
  },
  {
   "cell_type": "markdown",
   "metadata": {
    "id": "2cpsVdR-gYkm"
   },
   "source": [
    "Теперь для каждого гена посчитайте доверительные интервалы в обоих клеточных типах, и проверьте, пересекаются ли они? Результаты можно добавлять в список, например:\n",
    "\n",
    "```python\n",
    "ci_test_results = [True, False, ..., True]\n",
    "```"
   ]
  },
  {
   "cell_type": "code",
   "execution_count": 24,
   "metadata": {
    "id": "JMOoVjZsr7WU"
   },
   "outputs": [
    {
     "name": "stdout",
     "output_type": "stream",
     "text": [
      "[True, False, True, False, True]\n"
     ]
    }
   ],
   "source": [
    "ci_test_results = []\n",
    "\n",
    "for i in expression_data.columns[:-1]:\n",
    "    b_data = b_cells_expression_data[i]\n",
    "    nk_data = nk_cells_expression_data[i]\n",
    "    \n",
    "    b_ci = st.t.interval(alpha=0.95, df=len(b_data) - 1, \n",
    "                       loc=np.mean(b_data), scale=st.sem(b_data))\n",
    "    \n",
    "    nk_ci = st.t.interval(alpha=0.95, df=len(nk_data) - 1, \n",
    "                        loc=np.mean(nk_data), scale=st.sem(nk_data))\n",
    "    \n",
    "    ci_test_results.append(check_intervals_intersect(b_ci, nk_ci))\n",
    "    \n",
    "print(ci_test_results[0:5])"
   ]
  },
  {
   "cell_type": "markdown",
   "metadata": {
    "id": "GTeBsVNHhpr9"
   },
   "source": [
    "Попытайтесь оформить это в виде функции, которая будет принимать на вход две таблицы с экспрессиями и выдавать для каждого гена, значимо ли отличается его средняя экспрессия между клеточными типами.\n",
    "\n",
    "```python\n",
    "def check_dge_with_ci(first_table, second_table):\n",
    "    # dge - differential gene expression\n",
    "\n",
    "    return ci_test_results\n",
    "```"
   ]
  },
  {
   "cell_type": "code",
   "execution_count": 25,
   "metadata": {
    "id": "nxgCa0V-r8Xw"
   },
   "outputs": [
    {
     "data": {
      "text/plain": [
       "True"
      ]
     },
     "execution_count": 25,
     "metadata": {},
     "output_type": "execute_result"
    }
   ],
   "source": [
    "def check_dge_with_ci(first_table, second_table):\n",
    "    ci_test_results = []\n",
    "\n",
    "    for i in first_table.columns:\n",
    "        one_dge, two_dge = first_table[i], second_table[i]\n",
    "        one_ci = st.t.interval(alpha=0.95, df=len(one_dge) - 1, \n",
    "                             loc=np.mean(one_dge), scale=st.sem(one_dge))\n",
    "        two_ci = st.t.interval(alpha=0.95, df=len(two_dge) - 1, \n",
    "                             loc=np.mean(two_dge), scale=st.sem(two_dge))\n",
    "        ci_test_results.append(check_intervals_intersect(one_ci, two_ci))\n",
    "\n",
    "    return ci_test_results\n",
    "\n",
    "\n",
    "stat_check = check_dge_with_ci(b_cells_expression_data.iloc[:, :-1], \n",
    "                               nk_cells_expression_data.iloc[:, :-1])\n",
    "\n",
    "ci_test_results == stat_check"
   ]
  },
  {
   "cell_type": "markdown",
   "metadata": {
    "id": "BTMrzw2Cjk8x"
   },
   "source": [
    "## Задание 3\n",
    "\n",
    "**4 баллов**"
   ]
  },
  {
   "cell_type": "markdown",
   "metadata": {
    "id": "Hg6BH7N-kilU"
   },
   "source": [
    "Давайте теперь применим для той же задачи `z-критерий`. Будем считать, что в данном случае $\\alpha$ = 0.05, и если полученное `p-value` будет меньше, то экспрессия генов значимо отличается."
   ]
  },
  {
   "cell_type": "code",
   "execution_count": 26,
   "metadata": {
    "id": "pfKgFrLCfPN5"
   },
   "outputs": [],
   "source": [
    "from statsmodels.stats.weightstats import ztest"
   ]
  },
  {
   "cell_type": "code",
   "execution_count": 27,
   "metadata": {
    "colab": {
     "base_uri": "https://localhost:8080/"
    },
    "id": "8ws5c8kQcyxA",
    "outputId": "1ded25f5-353b-4872-c4a0-bcc0b4a153a2"
   },
   "outputs": [
    {
     "data": {
      "text/plain": [
       "(-1.342743404188514, 0.17935507499860148)"
      ]
     },
     "execution_count": 27,
     "metadata": {},
     "output_type": "execute_result"
    }
   ],
   "source": [
    "# Наш излюбленный ген\n",
    "ztest(\n",
    "    b_cells_expression_data[example_gene],\n",
    "    nk_cells_expression_data[example_gene]\n",
    ")"
   ]
  },
  {
   "cell_type": "markdown",
   "metadata": {
    "id": "jouFFsZGlWr8"
   },
   "source": [
    "Попытайтесь оформить это в виде функции, которая будет принимать на вход две таблицы с экспрессиями и выдавать для каждого гена, значимо ли отличается его средняя экспрессия между клеточными типами.\n",
    "\n",
    "```python\n",
    "def check_dge_with_ztest(first_table, second_table):\n",
    "    # dge - differential gene expression\n",
    "\n",
    "    return z_test_results\n",
    "```"
   ]
  },
  {
   "cell_type": "code",
   "execution_count": 28,
   "metadata": {
    "id": "aXc720tmhNt7"
   },
   "outputs": [],
   "source": [
    "def check_dge_with_ztest(first_table, second_table, alpha=0.05):\n",
    "    z_test_results = []\n",
    "\n",
    "    for x in first_table.columns:\n",
    "        res = ztest(first_table[x], second_table[x])[1] < 0.05\n",
    "        z_test_results.append(res)\n",
    "\n",
    "    return z_test_results"
   ]
  },
  {
   "cell_type": "markdown",
   "metadata": {
    "id": "TZpNj9EMlenZ"
   },
   "source": [
    "## Задание 4\n",
    "\n",
    "**10 баллов**"
   ]
  },
  {
   "cell_type": "markdown",
   "metadata": {
    "id": "sqCB9SY9ljrn"
   },
   "source": [
    "Теперь пришла пора оформить все ваши старания в виде программы. Напишите программу, которая принимает на вход следующие аргуметры:\n",
    "\n",
    "1. `first_cell_type_expressions_path` &ndash; путь до таблицы с экспрессиями генов для одного клеточного типа;\n",
    "2. `second_cell_type_expressions_path` &ndash; путь до таблицы с экспрессиями генов для второго клеточного типа;\n",
    "3. `save_results_table` &ndash; название таблицы с результатами.\n",
    "\n",
    "Считывать аргументы можно любым удобным способом (например, `input`, `argparse`).\n",
    "\n",
    "Как читать данные при помощи пандаса мы уже знаем, осталось понять, как записывать результаты. Допустим, вы записывали результаты ваших тестов в списки, тогда создать пандасовский датафрейм можно следующим образом:"
   ]
  },
  {
   "cell_type": "code",
   "execution_count": 29,
   "metadata": {
    "colab": {
     "base_uri": "https://localhost:8080/",
     "height": 153
    },
    "id": "UK3kTYEBljMl",
    "outputId": "164a2f08-4909-4fa2-fee9-e77b2c3bf47d"
   },
   "outputs": [
    {
     "data": {
      "text/html": [
       "<div>\n",
       "<style scoped>\n",
       "    .dataframe tbody tr th:only-of-type {\n",
       "        vertical-align: middle;\n",
       "    }\n",
       "\n",
       "    .dataframe tbody tr th {\n",
       "        vertical-align: top;\n",
       "    }\n",
       "\n",
       "    .dataframe thead th {\n",
       "        text-align: right;\n",
       "    }\n",
       "</style>\n",
       "<table border=\"1\" class=\"dataframe\">\n",
       "  <thead>\n",
       "    <tr style=\"text-align: right;\">\n",
       "      <th></th>\n",
       "      <th>ci_test_results</th>\n",
       "      <th>z_test_results</th>\n",
       "      <th>z_test_p_values</th>\n",
       "      <th>mean_diff</th>\n",
       "    </tr>\n",
       "  </thead>\n",
       "  <tbody>\n",
       "    <tr>\n",
       "      <th>0</th>\n",
       "      <td>True</td>\n",
       "      <td>True</td>\n",
       "      <td>0.0040</td>\n",
       "      <td>-10.0</td>\n",
       "    </tr>\n",
       "    <tr>\n",
       "      <th>1</th>\n",
       "      <td>False</td>\n",
       "      <td>True</td>\n",
       "      <td>0.0100</td>\n",
       "      <td>10.0</td>\n",
       "    </tr>\n",
       "    <tr>\n",
       "      <th>2</th>\n",
       "      <td>True</td>\n",
       "      <td>True</td>\n",
       "      <td>0.0001</td>\n",
       "      <td>0.5</td>\n",
       "    </tr>\n",
       "  </tbody>\n",
       "</table>\n",
       "</div>"
      ],
      "text/plain": [
       "   ci_test_results  z_test_results  z_test_p_values  mean_diff\n",
       "0             True            True           0.0040      -10.0\n",
       "1            False            True           0.0100       10.0\n",
       "2             True            True           0.0001        0.5"
      ]
     },
     "execution_count": 29,
     "metadata": {},
     "output_type": "execute_result"
    }
   ],
   "source": [
    "ci_test_results = [True, False, True]\n",
    "z_test_results = [True, True, True]\n",
    "# Опционально можно также сохранять p-value для z-критерия\n",
    "z_test_p_values = [0.004, 0.01, 0.0001]\n",
    "# Также сохраните разницу в средних экспрессиях между 1 и 2 таблицами для каждого гена,\n",
    "# чтобы было понять, уменьшается или увеличивается экспрессия гена\n",
    "mean_diff = [-10, 10, 0.5]\n",
    "\n",
    "# Созданим словарь {'название колонки': список_значений}\n",
    "results = {\n",
    "    \"ci_test_results\": ci_test_results,\n",
    "    \"z_test_results\": z_test_results,\n",
    "    \"z_test_p_values\": z_test_p_values,\n",
    "    \"mean_diff\": mean_diff\n",
    "}\n",
    "\n",
    "# Из словаря делаем датафрейм\n",
    "results = pd.DataFrame(results)\n",
    "results.head()"
   ]
  },
  {
   "cell_type": "code",
   "execution_count": 30,
   "metadata": {
    "id": "WvjHjmLcoBQO"
   },
   "outputs": [],
   "source": [
    "# Сохраним таблицу в .csv файл\n",
    "results.to_csv(\"path_to_your_awesome_results.csv\")"
   ]
  },
  {
   "cell_type": "markdown",
   "metadata": {},
   "source": [
    "# Task 4"
   ]
  },
  {
   "cell_type": "code",
   "execution_count": 33,
   "metadata": {
    "id": "MT2i-0StqcM2"
   },
   "outputs": [],
   "source": [
    "def programm_DE(first_cell_type_expressions_path, \n",
    "                 second_cell_type_expressions_path,\n",
    "                 results_table):\n",
    "    \n",
    "    frst = pd.read_csv(first_cell_type_expressions_path, index_col=0)\n",
    "    sec = pd.read_csv(second_cell_type_expressions_path, index_col=0)\n",
    "\n",
    "    ci_test_results, z_test_results, z_test_p_values, mean_diff, names  = [], [], [], [], []\n",
    "    \n",
    "    if set(frst.columns) != set(sec.columns):\n",
    "        print(\"\"\"The two datasets have unequal sets of columns. \n",
    "    The analysis will be continued with the overlapping ones.\"\"\")\n",
    "  \n",
    "    overlap = set(frst.columns) & set(sec.columns)\n",
    "\n",
    "    for i in overlap:\n",
    "        frst_ci = st.t.interval(alpha=0.95, df=len(frst[i]) - 1, \n",
    "                           loc=np.mean(frst[i]), scale=st.sem(frst[i]))\n",
    "        sec_ci = st.t.interval(alpha=0.95, df=len(sec[i]) - 1, \n",
    "                           loc=np.mean(sec[i]), scale=st.sem(sec[i]))\n",
    "        intrsct = (frst_ci[0] < sec_ci[1]) & (sec_ci[0] < frst_ci[1])\n",
    "        ci_test_results.append(intrsct)\n",
    "        names.append(i)\n",
    "\n",
    "    z_res = ztest(frst[i], sec[i])\n",
    "    z_test_results.append(z_res[1] < 0.05)\n",
    "    z_test_p_values.append(z_res[1])\n",
    "\n",
    "    mean_different = np.mean(frst[i]) - np.mean(sec[i])\n",
    "    mean_diff.append(mean_different)\n",
    "\n",
    "    results = {'name': names,\n",
    "             \"ci_test_results\": ci_test_results,\n",
    "             \"z_test_results\": z_test_results,\n",
    "             \"z_test_p_values\": z_test_p_values,\n",
    "             \"mean_diff\": mean_diff}\n",
    "  \n",
    "    results = pd.DataFrame(results)\n",
    "    results.to_csv(f\"{results_table}.csv\", index=False)"
   ]
  },
  {
   "cell_type": "code",
   "execution_count": null,
   "metadata": {},
   "outputs": [],
   "source": [
    "frst_dataset = input('Please, set the path to your first dataset: ')\n",
    "sec_dataset = input('Please, set the path to your second dataset: ')\n",
    "output_name = input('Please, set the name of the output .csv: ')\n",
    "\n",
    "programm_DE(frst_dataset, sec_dataset, output_name)"
   ]
  },
  {
   "cell_type": "markdown",
   "metadata": {
    "id": "AnjRiJBtqbCu"
   },
   "source": [
    "## Задание 5\n",
    "\n",
    "**0.5 баллов (доп.)**\n",
    "\n",
    "В онлайне сложно знакомиться, а особенно сейчас. Созвонитесь с кем-то из других студентов и прикрипите сюда скрин вашего созвона. Можно коротко описать, о чем вы говорили)"
   ]
  },
  {
   "cell_type": "code",
   "execution_count": null,
   "metadata": {
    "id": "5ZF0gOD-rSX_"
   },
   "outputs": [],
   "source": []
  }
 ],
 "metadata": {
  "colab": {
   "provenance": []
  },
  "kernelspec": {
   "display_name": "Python 3 (ipykernel)",
   "language": "python",
   "name": "python3"
  },
  "language_info": {
   "codemirror_mode": {
    "name": "ipython",
    "version": 3
   },
   "file_extension": ".py",
   "mimetype": "text/x-python",
   "name": "python",
   "nbconvert_exporter": "python",
   "pygments_lexer": "ipython3",
   "version": "3.7.3"
  }
 },
 "nbformat": 4,
 "nbformat_minor": 1
}
